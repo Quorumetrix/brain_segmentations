{
 "cells": [
  {
   "cell_type": "code",
   "execution_count": 1,
   "metadata": {},
   "outputs": [],
   "source": [
    "import brainreg"
   ]
  },
  {
   "cell_type": "code",
   "execution_count": 2,
   "metadata": {},
   "outputs": [
    {
     "name": "stdout",
     "output_type": "stream",
     "text": [
      "Help on package brainreg:\n",
      "\n",
      "NAME\n",
      "    brainreg\n",
      "\n",
      "PACKAGE CONTENTS\n",
      "    backend (package)\n",
      "    cli\n",
      "    exceptions\n",
      "    main\n",
      "    paths\n",
      "    utils (package)\n",
      "\n",
      "VERSION\n",
      "    0.4.0\n",
      "\n",
      "AUTHOR\n",
      "    Adam Tyson\n",
      "\n",
      "FILE\n",
      "    c:\\users\\tyler\\anaconda3\\envs\\brain_segmentations\\lib\\site-packages\\brainreg\\__init__.py\n",
      "\n",
      "\n"
     ]
    }
   ],
   "source": [
    " help(brainreg)"
   ]
  },
  {
   "cell_type": "code",
   "execution_count": 45,
   "metadata": {},
   "outputs": [
    {
     "data": {
      "text/plain": [
       "CompletedProcess(args=['..register.bat'], returncode=1)"
      ]
     },
     "execution_count": 45,
     "metadata": {},
     "output_type": "execute_result"
    }
   ],
   "source": [
    "# Run the bat file\n",
    "\n",
    "import subprocess\n",
    "\n",
    "# Path to the .bat file\n",
    "bat_file_path = 'register.bat'\n",
    "\n",
    "# Run the .bat file\n",
    "subprocess.run([bat_file_path], shell=True)"
   ]
  },
  {
   "cell_type": "code",
   "execution_count": 7,
   "metadata": {},
   "outputs": [],
   "source": [
    "input_folder = 'Z://Collaboration_data/Iordonova_lab/downsampled_align/downsampled.tiff'\n",
    "output_folder = 'M://Brain_Registration/brainreg_output/notebook_output/'\n",
    "\n",
    "\n",
    "# --atlas whs_sd_rat_39um\n",
    "# –orientation sal\n",
    "#  -v 80 36 36\n",
    "\n",
    "# --save-original-orientation"
   ]
  },
  {
   "attachments": {},
   "cell_type": "markdown",
   "metadata": {},
   "source": [
    "brainreg input_folder output_folder -v 80 36 36 -–orientation sal --atlas whs_sd_rat_39um"
   ]
  },
  {
   "cell_type": "code",
   "execution_count": 39,
   "metadata": {},
   "outputs": [
    {
     "name": "stderr",
     "output_type": "stream",
     "text": [
      "usage: brainreg [-h] [-a ADDITIONAL_IMAGES [ADDITIONAL_IMAGES ...]]\n",
      "                [--version] [--atlas ATLAS] [--backend BACKEND]\n",
      "                [--affine-n-steps AFFINE_N_STEPS]\n",
      "                [--affine-use-n-steps AFFINE_USE_N_STEPS]\n",
      "                [--freeform-n-steps FREEFORM_N_STEPS]\n",
      "                [--freeform-use-n-steps FREEFORM_USE_N_STEPS]\n",
      "                [--bending-energy-weight BENDING_ENERGY_WEIGHT]\n",
      "                [--grid-spacing GRID_SPACING]\n",
      "                [--smoothing-sigma-reference SMOOTHING_SIGMA_REFERENCE]\n",
      "                [--smoothing-sigma-floating SMOOTHING_SIGMA_FLOATING]\n",
      "                [--histogram-n-bins-floating HISTOGRAM_N_BINS_FLOATING]\n",
      "                [--histogram-n-bins-reference HISTOGRAM_N_BINS_REFERENCE] -v\n",
      "                VOXEL_SIZES [VOXEL_SIZES ...] --orientation ORIENTATION\n",
      "                [--n-free-cpus N_FREE_CPUS] [--debug]\n",
      "                [--save-original-orientation]\n",
      "                [--brain_geometry {full,hemisphere_l,hemisphere_r}]\n",
      "                [--sort-input-file] [--pre-processing PREPROCESSING]\n",
      "                image_paths brainreg_directory\n",
      "brainreg: error: the following arguments are required: brainreg_directory, --orientation\n"
     ]
    }
   ],
   "source": [
    "!brainreg {input_folder} {output_folder} -v 80 36 36 -–orientation sal --atlas whs_sd_rat_39um --save-original-orientation"
   ]
  },
  {
   "cell_type": "code",
   "execution_count": 40,
   "metadata": {},
   "outputs": [
    {
     "ename": "CalledProcessError",
     "evalue": "Command '['brainreg', 'Z://Collaboration_data/Iordonova_lab/downsampled_align/downsampled.tiff', 'M://Brain_Registration/brainreg_output/notebook_output/']' returned non-zero exit status 2.",
     "output_type": "error",
     "traceback": [
      "\u001b[1;31m---------------------------------------------------------------------------\u001b[0m",
      "\u001b[1;31mCalledProcessError\u001b[0m                        Traceback (most recent call last)",
      "\u001b[1;32me:\\Documents\\Professional\\Jupyter notebooks\\Projects\\Iordonova_lab\\brain_segmentations\\Notebooks\\Brainreg Notebook.ipynb Cell 6\u001b[0m in \u001b[0;36m<cell line: 6>\u001b[1;34m()\u001b[0m\n\u001b[0;32m      <a href='vscode-notebook-cell:/e%3A/Documents/Professional/Jupyter%20notebooks/Projects/Iordonova_lab/brain_segmentations/Notebooks/Brainreg%20Notebook.ipynb#X22sZmlsZQ%3D%3D?line=0'>1</a>\u001b[0m \u001b[39mimport\u001b[39;00m \u001b[39msubprocess\u001b[39;00m\n\u001b[0;32m      <a href='vscode-notebook-cell:/e%3A/Documents/Professional/Jupyter%20notebooks/Projects/Iordonova_lab/brain_segmentations/Notebooks/Brainreg%20Notebook.ipynb#X22sZmlsZQ%3D%3D?line=2'>3</a>\u001b[0m \u001b[39m# folder_name = 'my_folder'\u001b[39;00m\n\u001b[0;32m      <a href='vscode-notebook-cell:/e%3A/Documents/Professional/Jupyter%20notebooks/Projects/Iordonova_lab/brain_segmentations/Notebooks/Brainreg%20Notebook.ipynb#X22sZmlsZQ%3D%3D?line=3'>4</a>\u001b[0m \n\u001b[0;32m      <a href='vscode-notebook-cell:/e%3A/Documents/Professional/Jupyter%20notebooks/Projects/Iordonova_lab/brain_segmentations/Notebooks/Brainreg%20Notebook.ipynb#X22sZmlsZQ%3D%3D?line=4'>5</a>\u001b[0m \u001b[39m# Run the 'ls' command with the folder_name variable as an argument\u001b[39;00m\n\u001b[1;32m----> <a href='vscode-notebook-cell:/e%3A/Documents/Professional/Jupyter%20notebooks/Projects/Iordonova_lab/brain_segmentations/Notebooks/Brainreg%20Notebook.ipynb#X22sZmlsZQ%3D%3D?line=5'>6</a>\u001b[0m output \u001b[39m=\u001b[39m subprocess\u001b[39m.\u001b[39;49mcheck_output([\u001b[39m'\u001b[39;49m\u001b[39mbrainreg\u001b[39;49m\u001b[39m'\u001b[39;49m, input_folder, output_folder], text\u001b[39m=\u001b[39;49m\u001b[39mTrue\u001b[39;49;00m)\n\u001b[0;32m      <a href='vscode-notebook-cell:/e%3A/Documents/Professional/Jupyter%20notebooks/Projects/Iordonova_lab/brain_segmentations/Notebooks/Brainreg%20Notebook.ipynb#X22sZmlsZQ%3D%3D?line=6'>7</a>\u001b[0m \u001b[39mprint\u001b[39m(output)\n",
      "File \u001b[1;32mc:\\Users\\tyler\\Anaconda3\\envs\\brain_segmentations\\lib\\subprocess.py:424\u001b[0m, in \u001b[0;36mcheck_output\u001b[1;34m(timeout, *popenargs, **kwargs)\u001b[0m\n\u001b[0;32m    421\u001b[0m         empty \u001b[39m=\u001b[39m \u001b[39mb\u001b[39m\u001b[39m'\u001b[39m\u001b[39m'\u001b[39m\n\u001b[0;32m    422\u001b[0m     kwargs[\u001b[39m'\u001b[39m\u001b[39minput\u001b[39m\u001b[39m'\u001b[39m] \u001b[39m=\u001b[39m empty\n\u001b[1;32m--> 424\u001b[0m \u001b[39mreturn\u001b[39;00m run(\u001b[39m*\u001b[39mpopenargs, stdout\u001b[39m=\u001b[39mPIPE, timeout\u001b[39m=\u001b[39mtimeout, check\u001b[39m=\u001b[39m\u001b[39mTrue\u001b[39;00m,\n\u001b[0;32m    425\u001b[0m            \u001b[39m*\u001b[39m\u001b[39m*\u001b[39mkwargs)\u001b[39m.\u001b[39mstdout\n",
      "File \u001b[1;32mc:\\Users\\tyler\\Anaconda3\\envs\\brain_segmentations\\lib\\subprocess.py:528\u001b[0m, in \u001b[0;36mrun\u001b[1;34m(input, capture_output, timeout, check, *popenargs, **kwargs)\u001b[0m\n\u001b[0;32m    526\u001b[0m     retcode \u001b[39m=\u001b[39m process\u001b[39m.\u001b[39mpoll()\n\u001b[0;32m    527\u001b[0m     \u001b[39mif\u001b[39;00m check \u001b[39mand\u001b[39;00m retcode:\n\u001b[1;32m--> 528\u001b[0m         \u001b[39mraise\u001b[39;00m CalledProcessError(retcode, process\u001b[39m.\u001b[39margs,\n\u001b[0;32m    529\u001b[0m                                  output\u001b[39m=\u001b[39mstdout, stderr\u001b[39m=\u001b[39mstderr)\n\u001b[0;32m    530\u001b[0m \u001b[39mreturn\u001b[39;00m CompletedProcess(process\u001b[39m.\u001b[39margs, retcode, stdout, stderr)\n",
      "\u001b[1;31mCalledProcessError\u001b[0m: Command '['brainreg', 'Z://Collaboration_data/Iordonova_lab/downsampled_align/downsampled.tiff', 'M://Brain_Registration/brainreg_output/notebook_output/']' returned non-zero exit status 2."
     ]
    }
   ],
   "source": [
    "import subprocess\n",
    "\n",
    "# folder_name = 'my_folder'\n",
    "\n",
    "# Run the 'ls' command with the folder_name variable as an argument\n",
    "output = subprocess.check_output(['brainreg', input_folder, output_folder], text=True)\n",
    "print(output)"
   ]
  },
  {
   "cell_type": "code",
   "execution_count": null,
   "metadata": {},
   "outputs": [],
   "source": [
    "# brainreg /path/to/raw/data /path/to/output/directory -v 5 2 2 --orientation psl\n"
   ]
  },
  {
   "cell_type": "code",
   "execution_count": 13,
   "metadata": {},
   "outputs": [
    {
     "ename": "SyntaxError",
     "evalue": "invalid syntax (2114288187.py, line 1)",
     "output_type": "error",
     "traceback": [
      "\u001b[1;36m  Input \u001b[1;32mIn [13]\u001b[1;36m\u001b[0m\n\u001b[1;33m    brainreg 'Z://Collaboration_data/Iordonova_lab/downsampled_align/downsampled.tif '\u001b[0m\n\u001b[1;37m             ^\u001b[0m\n\u001b[1;31mSyntaxError\u001b[0m\u001b[1;31m:\u001b[0m invalid syntax\n"
     ]
    }
   ],
   "source": [
    "brainreg 'Z://Collaboration_data/Iordonova_lab/downsampled_align/downsampled.tif '\n",
    "'M://Brain_Registration/brainreg_output/notebook_output/' -v 80 36 36 -–orientation sal --atlas whs_sd_rat_39um\n"
   ]
  },
  {
   "cell_type": "code",
   "execution_count": 21,
   "metadata": {},
   "outputs": [
    {
     "ename": "AttributeError",
     "evalue": "module 'brainreg' has no attribute 'backend'",
     "output_type": "error",
     "traceback": [
      "\u001b[1;31m---------------------------------------------------------------------------\u001b[0m",
      "\u001b[1;31mAttributeError\u001b[0m                            Traceback (most recent call last)",
      "\u001b[1;32me:\\Documents\\Professional\\Jupyter notebooks\\Projects\\Iordonova_lab\\brain_segmentations\\Notebooks\\Brainreg Notebook.ipynb Cell 7\u001b[0m in \u001b[0;36m<cell line: 1>\u001b[1;34m()\u001b[0m\n\u001b[1;32m----> <a href='vscode-notebook-cell:/e%3A/Documents/Professional/Jupyter%20notebooks/Projects/Iordonova_lab/brain_segmentations/Notebooks/Brainreg%20Notebook.ipynb#W5sZmlsZQ%3D%3D?line=0'>1</a>\u001b[0m brainreg\u001b[39m.\u001b[39;49mbackend\u001b[39m.\u001b[39mniftyreg\n\u001b[0;32m      <a href='vscode-notebook-cell:/e%3A/Documents/Professional/Jupyter%20notebooks/Projects/Iordonova_lab/brain_segmentations/Notebooks/Brainreg%20Notebook.ipynb#W5sZmlsZQ%3D%3D?line=1'>2</a>\u001b[0m \u001b[39m# #\u001b[39;00m\n\u001b[0;32m      <a href='vscode-notebook-cell:/e%3A/Documents/Professional/Jupyter%20notebooks/Projects/Iordonova_lab/brain_segmentations/Notebooks/Brainreg%20Notebook.ipynb#W5sZmlsZQ%3D%3D?line=2'>3</a>\u001b[0m \u001b[39m#     registration_output_folder,\u001b[39;00m\n\u001b[0;32m      <a href='vscode-notebook-cell:/e%3A/Documents/Professional/Jupyter%20notebooks/Projects/Iordonova_lab/brain_segmentations/Notebooks/Brainreg%20Notebook.ipynb#W5sZmlsZQ%3D%3D?line=3'>4</a>\u001b[0m \u001b[39m#     paths,\u001b[39;00m\n\u001b[1;32m   (...)\u001b[0m\n\u001b[0;32m     <a href='vscode-notebook-cell:/e%3A/Documents/Professional/Jupyter%20notebooks/Projects/Iordonova_lab/brain_segmentations/Notebooks/Brainreg%20Notebook.ipynb#W5sZmlsZQ%3D%3D?line=18'>19</a>\u001b[0m \u001b[39m#     brain_geometry=\"full\",\u001b[39;00m\n\u001b[0;32m     <a href='vscode-notebook-cell:/e%3A/Documents/Professional/Jupyter%20notebooks/Projects/Iordonova_lab/brain_segmentations/Notebooks/Brainreg%20Notebook.ipynb#W5sZmlsZQ%3D%3D?line=19'>20</a>\u001b[0m \u001b[39m# )\u001b[39;00m\n",
      "\u001b[1;31mAttributeError\u001b[0m: module 'brainreg' has no attribute 'backend'"
     ]
    }
   ],
   "source": [
    "brainreg.backend.niftyreg\n",
    "# #\n",
    "#     registration_output_folder,\n",
    "#     paths,\n",
    "#     atlas,\n",
    "#     target_brain,\n",
    "#     n_processes,\n",
    "#     additional_images_downsample,\n",
    "#     DATA_ORIENTATION,\n",
    "#     ATLAS_ORIENTATION,\n",
    "#     niftyreg_args,\n",
    "#     preprocessing_args,\n",
    "#     scaling,\n",
    "#     load_parallel,\n",
    "#     sort_input_file,\n",
    "#     n_free_cpus,\n",
    "#     debug=False,\n",
    "#     save_original_orientation=False,\n",
    "#     brain_geometry=\"full\",\n",
    "# )"
   ]
  },
  {
   "cell_type": "code",
   "execution_count": 23,
   "metadata": {},
   "outputs": [],
   "source": [
    "from brainreg.backend.niftyreg.run import *"
   ]
  },
  {
   "cell_type": "code",
   "execution_count": 24,
   "metadata": {},
   "outputs": [
    {
     "ename": "TypeError",
     "evalue": "run_niftyreg() missing 14 required positional arguments: 'registration_output_folder', 'paths', 'atlas', 'target_brain', 'n_processes', 'additional_images_downsample', 'DATA_ORIENTATION', 'ATLAS_ORIENTATION', 'niftyreg_args', 'preprocessing_args', 'scaling', 'load_parallel', 'sort_input_file', and 'n_free_cpus'",
     "output_type": "error",
     "traceback": [
      "\u001b[1;31m---------------------------------------------------------------------------\u001b[0m",
      "\u001b[1;31mTypeError\u001b[0m                                 Traceback (most recent call last)",
      "\u001b[1;32me:\\Documents\\Professional\\Jupyter notebooks\\Projects\\Iordonova_lab\\brain_segmentations\\Notebooks\\Brainreg Notebook.ipynb Cell 9\u001b[0m in \u001b[0;36m<cell line: 1>\u001b[1;34m()\u001b[0m\n\u001b[1;32m----> <a href='vscode-notebook-cell:/e%3A/Documents/Professional/Jupyter%20notebooks/Projects/Iordonova_lab/brain_segmentations/Notebooks/Brainreg%20Notebook.ipynb#X11sZmlsZQ%3D%3D?line=0'>1</a>\u001b[0m run_niftyreg()\n",
      "\u001b[1;31mTypeError\u001b[0m: run_niftyreg() missing 14 required positional arguments: 'registration_output_folder', 'paths', 'atlas', 'target_brain', 'n_processes', 'additional_images_downsample', 'DATA_ORIENTATION', 'ATLAS_ORIENTATION', 'niftyreg_args', 'preprocessing_args', 'scaling', 'load_parallel', 'sort_input_file', and 'n_free_cpus'"
     ]
    }
   ],
   "source": [
    "run_niftyreg()"
   ]
  },
  {
   "cell_type": "code",
   "execution_count": 30,
   "metadata": {},
   "outputs": [],
   "source": [
    "from brainreg.main import *#main as brainreg_main"
   ]
  },
  {
   "cell_type": "code",
   "execution_count": null,
   "metadata": {},
   "outputs": [],
   "source": [
    "# --atlas whs_sd_rat_39um\n",
    "# –orientation sal\n",
    "#  -v 80 36 36\n",
    "\n",
    "# --save-original-orientation"
   ]
  },
  {
   "cell_type": "code",
   "execution_count": 31,
   "metadata": {},
   "outputs": [
    {
     "name": "stderr",
     "output_type": "stream",
     "text": [
      "100%|██████████| 355/355 [00:06<00:00, 55.26it/s]\n"
     ]
    },
    {
     "ename": "AttributeError",
     "evalue": "'str' object has no attribute 'registration_output_folder'",
     "output_type": "error",
     "traceback": [
      "\u001b[1;31m---------------------------------------------------------------------------\u001b[0m",
      "\u001b[1;31mAttributeError\u001b[0m                            Traceback (most recent call last)",
      "\u001b[1;32me:\\Documents\\Professional\\Jupyter notebooks\\Projects\\Iordonova_lab\\brain_segmentations\\Notebooks\\Brainreg Notebook.ipynb Cell 12\u001b[0m in \u001b[0;36m<cell line: 1>\u001b[1;34m()\u001b[0m\n\u001b[1;32m----> <a href='vscode-notebook-cell:/e%3A/Documents/Professional/Jupyter%20notebooks/Projects/Iordonova_lab/brain_segmentations/Notebooks/Brainreg%20Notebook.ipynb#X13sZmlsZQ%3D%3D?line=0'>1</a>\u001b[0m main(atlas \u001b[39m=\u001b[39;49m \u001b[39m'\u001b[39;49m\u001b[39mwhs_sd_rat_39um\u001b[39;49m\u001b[39m'\u001b[39;49m,\n\u001b[0;32m      <a href='vscode-notebook-cell:/e%3A/Documents/Professional/Jupyter%20notebooks/Projects/Iordonova_lab/brain_segmentations/Notebooks/Brainreg%20Notebook.ipynb#X13sZmlsZQ%3D%3D?line=1'>2</a>\u001b[0m             data_orientation \u001b[39m=\u001b[39;49m \u001b[39m'\u001b[39;49m\u001b[39msal\u001b[39;49m\u001b[39m'\u001b[39;49m,\n\u001b[0;32m      <a href='vscode-notebook-cell:/e%3A/Documents/Professional/Jupyter%20notebooks/Projects/Iordonova_lab/brain_segmentations/Notebooks/Brainreg%20Notebook.ipynb#X13sZmlsZQ%3D%3D?line=2'>3</a>\u001b[0m             target_brain_path\u001b[39m=\u001b[39;49m input_folder,\n\u001b[0;32m      <a href='vscode-notebook-cell:/e%3A/Documents/Professional/Jupyter%20notebooks/Projects/Iordonova_lab/brain_segmentations/Notebooks/Brainreg%20Notebook.ipynb#X13sZmlsZQ%3D%3D?line=3'>4</a>\u001b[0m             paths\u001b[39m=\u001b[39;49m output_folder,\n\u001b[0;32m      <a href='vscode-notebook-cell:/e%3A/Documents/Professional/Jupyter%20notebooks/Projects/Iordonova_lab/brain_segmentations/Notebooks/Brainreg%20Notebook.ipynb#X13sZmlsZQ%3D%3D?line=4'>5</a>\u001b[0m             voxel_sizes \u001b[39m=\u001b[39;49m (\u001b[39m80\u001b[39;49m, \u001b[39m36\u001b[39;49m, \u001b[39m36\u001b[39;49m),\n\u001b[0;32m      <a href='vscode-notebook-cell:/e%3A/Documents/Professional/Jupyter%20notebooks/Projects/Iordonova_lab/brain_segmentations/Notebooks/Brainreg%20Notebook.ipynb#X13sZmlsZQ%3D%3D?line=5'>6</a>\u001b[0m             niftyreg_args \u001b[39m=\u001b[39;49m \u001b[39mNone\u001b[39;49;00m,\n\u001b[0;32m      <a href='vscode-notebook-cell:/e%3A/Documents/Professional/Jupyter%20notebooks/Projects/Iordonova_lab/brain_segmentations/Notebooks/Brainreg%20Notebook.ipynb#X13sZmlsZQ%3D%3D?line=6'>7</a>\u001b[0m             preprocessing_args \u001b[39m=\u001b[39;49m \u001b[39mNone\u001b[39;49;00m,\n\u001b[0;32m      <a href='vscode-notebook-cell:/e%3A/Documents/Professional/Jupyter%20notebooks/Projects/Iordonova_lab/brain_segmentations/Notebooks/Brainreg%20Notebook.ipynb#X13sZmlsZQ%3D%3D?line=7'>8</a>\u001b[0m             save_original_orientation\u001b[39m=\u001b[39;49m\u001b[39mTrue\u001b[39;49;00m\n\u001b[0;32m      <a href='vscode-notebook-cell:/e%3A/Documents/Professional/Jupyter%20notebooks/Projects/Iordonova_lab/brain_segmentations/Notebooks/Brainreg%20Notebook.ipynb#X13sZmlsZQ%3D%3D?line=8'>9</a>\u001b[0m             )\n",
      "File \u001b[1;32mc:\\Users\\tyler\\Anaconda3\\envs\\brain_segmentations\\lib\\site-packages\\brainreg\\main.py:73\u001b[0m, in \u001b[0;36mmain\u001b[1;34m(atlas, data_orientation, target_brain_path, paths, voxel_sizes, niftyreg_args, preprocessing_args, n_free_cpus, sort_input_file, additional_images_downsample, backend, scaling_rounding_decimals, debug, save_original_orientation, brain_geometry)\u001b[0m\n\u001b[0;32m     67\u001b[0m target_brain \u001b[39m=\u001b[39m bg\u001b[39m.\u001b[39mmap_stack_to(\n\u001b[0;32m     68\u001b[0m     data_orientation, atlas\u001b[39m.\u001b[39mmetadata[\u001b[39m\"\u001b[39m\u001b[39morientation\u001b[39m\u001b[39m\"\u001b[39m], target_brain\n\u001b[0;32m     69\u001b[0m )\n\u001b[0;32m     71\u001b[0m \u001b[39mif\u001b[39;00m backend \u001b[39m==\u001b[39m \u001b[39m\"\u001b[39m\u001b[39mniftyreg\u001b[39m\u001b[39m\"\u001b[39m:\n\u001b[0;32m     72\u001b[0m     run_niftyreg(\n\u001b[1;32m---> 73\u001b[0m         paths\u001b[39m.\u001b[39;49mregistration_output_folder,\n\u001b[0;32m     74\u001b[0m         paths,\n\u001b[0;32m     75\u001b[0m         atlas,\n\u001b[0;32m     76\u001b[0m         target_brain,\n\u001b[0;32m     77\u001b[0m         n_processes,\n\u001b[0;32m     78\u001b[0m         additional_images_downsample,\n\u001b[0;32m     79\u001b[0m         data_orientation,\n\u001b[0;32m     80\u001b[0m         atlas\u001b[39m.\u001b[39mmetadata[\u001b[39m\"\u001b[39m\u001b[39morientation\u001b[39m\u001b[39m\"\u001b[39m],\n\u001b[0;32m     81\u001b[0m         niftyreg_args,\n\u001b[0;32m     82\u001b[0m         preprocessing_args,\n\u001b[0;32m     83\u001b[0m         scaling,\n\u001b[0;32m     84\u001b[0m         load_parallel,\n\u001b[0;32m     85\u001b[0m         sort_input_file,\n\u001b[0;32m     86\u001b[0m         n_free_cpus,\n\u001b[0;32m     87\u001b[0m         debug\u001b[39m=\u001b[39mdebug,\n\u001b[0;32m     88\u001b[0m         save_original_orientation\u001b[39m=\u001b[39msave_original_orientation,\n\u001b[0;32m     89\u001b[0m         brain_geometry\u001b[39m=\u001b[39mbrain_geometry,\n\u001b[0;32m     90\u001b[0m     )\n\u001b[0;32m     92\u001b[0m logging\u001b[39m.\u001b[39minfo(\u001b[39m\"\u001b[39m\u001b[39mCalculating volumes of each brain area\u001b[39m\u001b[39m\"\u001b[39m)\n\u001b[0;32m     93\u001b[0m calculate_volumes(\n\u001b[0;32m     94\u001b[0m     atlas,\n\u001b[0;32m     95\u001b[0m     paths\u001b[39m.\u001b[39mregistered_atlas,\n\u001b[1;32m   (...)\u001b[0m\n\u001b[0;32m    101\u001b[0m     brain_geometry\u001b[39m=\u001b[39mbrain_geometry,\n\u001b[0;32m    102\u001b[0m )\n",
      "\u001b[1;31mAttributeError\u001b[0m: 'str' object has no attribute 'registration_output_folder'"
     ]
    }
   ],
   "source": [
    "main(atlas = 'whs_sd_rat_39um',\n",
    "            data_orientation = 'sal',\n",
    "            target_brain_path= input_folder,\n",
    "            paths= output_folder,\n",
    "            voxel_sizes = (80, 36, 36),\n",
    "            niftyreg_args = None,\n",
    "            preprocessing_args = None,\n",
    "            save_original_orientation=True\n",
    "            )"
   ]
  },
  {
   "cell_type": "code",
   "execution_count": null,
   "metadata": {},
   "outputs": [],
   "source": []
  }
 ],
 "metadata": {
  "kernelspec": {
   "display_name": "brain_segmentations",
   "language": "python",
   "name": "python3"
  },
  "language_info": {
   "codemirror_mode": {
    "name": "ipython",
    "version": 3
   },
   "file_extension": ".py",
   "mimetype": "text/x-python",
   "name": "python",
   "nbconvert_exporter": "python",
   "pygments_lexer": "ipython3",
   "version": "3.9.16"
  },
  "orig_nbformat": 4
 },
 "nbformat": 4,
 "nbformat_minor": 2
}
