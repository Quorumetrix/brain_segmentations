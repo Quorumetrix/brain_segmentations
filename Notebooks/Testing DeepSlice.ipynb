{
 "cells": [
  {
   "cell_type": "code",
   "execution_count": 2,
   "metadata": {},
   "outputs": [],
   "source": [
    "# %pip show deepslice\n",
    "from DeepSlice import DSModel     "
   ]
  },
  {
   "cell_type": "code",
   "execution_count": 3,
   "metadata": {},
   "outputs": [
    {
     "name": "stdout",
     "output_type": "stream",
     "text": [
      "WARNING:tensorflow:From c:\\Users\\tyler\\Anaconda3\\envs\\DS-GPU\\lib\\site-packages\\tensorflow_core\\python\\ops\\resource_variable_ops.py:1630: calling BaseResourceVariable.__init__ (from tensorflow.python.ops.resource_variable_ops) with constraint is deprecated and will be removed in a future version.\n",
      "Instructions for updating:\n",
      "If using Keras pass *_constraint arguments to layers.\n"
     ]
    }
   ],
   "source": [
    "species = 'rat' #available species are 'mouse' and 'rat'\n",
    "\n",
    "Model = DSModel(species)"
   ]
  },
  {
   "cell_type": "code",
   "execution_count": 4,
   "metadata": {},
   "outputs": [],
   "source": [
    "folderpath = 'C://Temp/BrainRegistration/DeepSlice/examples/example_brain/GLTa/'"
   ]
  },
  {
   "cell_type": "code",
   "execution_count": 5,
   "metadata": {},
   "outputs": [],
   "source": [
    "# Test:\n",
    "# import xml.etree.ElementTree as ET"
   ]
  },
  {
   "cell_type": "code",
   "execution_count": 6,
   "metadata": {},
   "outputs": [
    {
     "name": "stdout",
     "output_type": "stream",
     "text": [
      "Name: lxml\n",
      "Version: 4.9.2\n",
      "Summary: Powerful and Pythonic XML processing library combining libxml2/libxslt with the ElementTree API.\n",
      "Home-page: https://lxml.de/\n",
      "Author: lxml dev team\n",
      "Author-email: lxml-dev@lxml.de\n",
      "License: BSD-3-Clause\n",
      "Location: c:\\users\\tyler\\anaconda3\\envs\\ds-gpu\\lib\\site-packages\n",
      "Requires: \n",
      "Required-by: \n",
      "Note: you may need to restart the kernel to use updated packages.\n"
     ]
    }
   ],
   "source": [
    "# %pip install lxml\n",
    "%pip show lxml"
   ]
  },
  {
   "cell_type": "code",
   "execution_count": 7,
   "metadata": {},
   "outputs": [
    {
     "name": "stdout",
     "output_type": "stream",
     "text": [
      "Found 35 validated image filenames.\n",
      "35/35 [==============================] - 2s 61ms/step\n",
      "35/35 [==============================] - 1s 18ms/step\n",
      "[0.10768535449225604, 0.12564067058878928, 0.17295901238444594, 0.18548860422992688, 0.20120507387816056, 0.24838276838255655, 0.27927994544723167, 0.2907614116933088, 0.2921797899948897, 0.3005983228111614, 0.3128853817514526, 0.356213145715691, 0.35827502741130063, 0.3697259550310675, 0.3895711105640729, 0.39480833865168374, 0.3979483804471484, 0.3971385637902005, 0.3988952538687801, 0.3989253502110375, 0.3987899345505311, 0.39871472349130993, 0.397573260249607, 0.38557972664946466, 0.3764248064327155, 0.36324222224700525, 0.3418375234691319, 0.29920679154006347, 0.2921797899948897, 0.280727021993089, 0.2676049994568444, 0.2587599101270442, 0.21285425081600703, 0.18408053683478776, 0.17158779325327359]\n",
      "DV angle: 2.1164770286689176\n",
      "ML angle: 0.31501031564707327\n",
      "[0.10450382259105556, 0.12214963203889175, 0.17295901238444594, 0.18408053683478778, 0.20992771358456666, 0.25728044566443636, 0.2821709519107124, 0.29359401184804623, 0.2907614116933088, 0.29359401184804623, 0.31019412752800285, 0.34415357562469945, 0.3541096935728591, 0.3660897756661474, 0.38557972664946466, 0.39244737057558826, 0.3977682786017667, 0.39664448731159974, 0.3989253502110375, 0.39894039923368524, 0.39851924111491116, 0.39811354544099, 0.39515103623346287, 0.38299933639030836, 0.3679311311243335, 0.356213145715691, 0.3322264488091122, 0.29920679154006347, 0.28933900387042866, 0.2821709519107124, 0.2734626705517511, 0.2617147906633729, 0.22168014266172284, 0.198318965675544, 0.17571452525053055]\n",
      "DV angle: 2.116315246952345\n",
      "ML angle: 0.31501054216723984\n",
      "predicted thickness is -96.84869123099207µm\n",
      "35\n",
      "saving to C://Temp/BrainRegistration/DeepSlice/examples/example_brain/GLTa/MyResults.json\n",
      "saving to C://Temp/BrainRegistration/DeepSlice/examples/example_brain/GLTa/MyResults.xml\n"
     ]
    }
   ],
   "source": [
    "# folderpath = 'examples/example_brain/GLTa/'\n",
    "#here you run the model on your folder\n",
    "#try with and without ensemble to find the model which best works for you\n",
    "#if you have section numbers included in the filename as _sXXX specify this :)\n",
    "Model.predict(folderpath, ensemble=True, section_numbers=True)    \n",
    "#If you would like to normalise the angles (you should)\n",
    "Model.propagate_angles()                     \n",
    "#To reorder your sections according to the section numbers \n",
    "Model.enforce_index_order()    \n",
    "#alternatively if you know the precise spacing (ie; 1, 2, 4, indicates that section 3 has been left out of the series) Then you can use      \n",
    "#Furthermore if you know the exact section thickness in microns this can be included instead of None        \n",
    "Model.enforce_index_spacing(section_thickness = None)\n",
    "#now we save which will produce a json file which can be placed in the same directory as your images and then opened with QuickNII. \n",
    "Model.save_predictions(folderpath + 'MyResults')                                                                                                             \n",
    "\n",
    "\n"
   ]
  },
  {
   "cell_type": "code",
   "execution_count": null,
   "metadata": {},
   "outputs": [],
   "source": []
  }
 ],
 "metadata": {
  "kernelspec": {
   "display_name": "DS-GPU",
   "language": "python",
   "name": "python3"
  },
  "language_info": {
   "codemirror_mode": {
    "name": "ipython",
    "version": 3
   },
   "file_extension": ".py",
   "mimetype": "text/x-python",
   "name": "python",
   "nbconvert_exporter": "python",
   "pygments_lexer": "ipython3",
   "version": "3.7.13"
  },
  "orig_nbformat": 4
 },
 "nbformat": 4,
 "nbformat_minor": 2
}
