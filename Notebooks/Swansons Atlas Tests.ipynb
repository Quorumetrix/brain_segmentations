{
 "cells": [
  {
   "cell_type": "code",
   "execution_count": 1,
   "metadata": {},
   "outputs": [],
   "source": [
    "#Imports\n",
    "import os\n",
    "import numpy as np\n",
    "import imageio\n",
    "import matplotlib.pyplot as plt\n",
    "from tqdm import tqdm\n",
    "\n",
    "from skimage import io, transform\n",
    "from skimage.util import img_as_float32\n",
    "\n",
    "import os\n",
    "import glob\n",
    "from PIL import Image\n",
    "\n"
   ]
  },
  {
   "attachments": {},
   "cell_type": "markdown",
   "metadata": {},
   "source": [
    "Load the atlas images and export them with a black background. Mirror the left and right halfs to create new images for the tissue and atlas. \n",
    "\n",
    "The point: to try and run the Swason atlas through brainreg to align it to the Waxholm atlas. "
   ]
  },
  {
   "cell_type": "code",
   "execution_count": 9,
   "metadata": {},
   "outputs": [
    {
     "name": "stdout",
     "output_type": "stream",
     "text": [
      "All images processed and saved in the output directory.\n"
     ]
    }
   ],
   "source": [
    "atlas_path = 'Z://Open_data_sets/EBrains/Swanson/'\n",
    "\n",
    "\n",
    "# Define the path to the new folder where the modified images will be saved\n",
    "output_path =  'Z://Open_data_sets/EBrains/Swanson-blackbg/'\n",
    "\n",
    "output_path_mirror_left = 'Z://Open_data_sets/EBrains/Swanson-blackbg_mirror_left/'\n",
    "output_path_mirror_right = 'Z://Open_data_sets/EBrains/Swanson-blackbg_mirror_right/'\n",
    "\n",
    "# Define the path to the atlas files\n",
    "# atlas_path = '/path/to/atlas'\n",
    "# output_path = '/path/to/output'\n",
    "\n",
    "# Create the output directory if it does not exist\n",
    "os.makedirs(output_path, exist_ok=True)\n",
    "os.makedirs(output_path_mirror_left, exist_ok=True)\n",
    "os.makedirs(output_path_mirror_right, exist_ok=True)\n",
    "\n",
    "# List all PNG files\n",
    "png_files = glob.glob(os.path.join(atlas_path, '*.png'))\n",
    "\n",
    "\n",
    "for png_file in png_files:\n",
    "    # Load the image\n",
    "    img = Image.open(png_file)\n",
    "    img_np = np.array(img)\n",
    "\n",
    "    # Get the top left pixel color\n",
    "    white_color = img_np[0, 0, :]\n",
    "\n",
    "    # Replace all white pixels with black pixels\n",
    "    img_np[(img_np == white_color).all(axis=-1)] = [0, 0, 0, 0]  # If there are 4 channels, use [0, 0, 0, 0]\n",
    "\n",
    "    # Save the modified image\n",
    "    output_file = os.path.join(output_path, os.path.basename(png_file))\n",
    "    Image.fromarray(img_np).save(output_file)\n",
    "\n",
    "    # Mirror the left half of the image onto the right half\n",
    "    mirror_left = np.fliplr(img_np[:, :img_np.shape[1]//2])\n",
    "    mirror_left_full = np.concatenate((img_np[:, :img_np.shape[1]//2], mirror_left), axis=1)\n",
    "\n",
    "    # Save the left-mirrored image\n",
    "    output_file_mirror_left = os.path.join(output_path_mirror_left, os.path.basename(png_file))\n",
    "    Image.fromarray(mirror_left_full).save(output_file_mirror_left)\n",
    "\n",
    "    # Mirror the right half of the image onto the left half\n",
    "    mirror_right = np.fliplr(img_np[:, img_np.shape[1]//2:])\n",
    "    mirror_right_full = np.concatenate((mirror_right, img_np[:, img_np.shape[1]//2:]), axis=1)\n",
    "\n",
    "    # Save the right-mirrored image\n",
    "    output_file_mirror_right = os.path.join(output_path_mirror_right, os.path.basename(png_file))\n",
    "    Image.fromarray(mirror_right_full).save(output_file_mirror_right)\n",
    "\n",
    "\n",
    "\n",
    "print(\"All images processed and saved in the output directory.\")\n"
   ]
  },
  {
   "cell_type": "code",
   "execution_count": null,
   "metadata": {},
   "outputs": [],
   "source": []
  }
 ],
 "metadata": {
  "kernelspec": {
   "display_name": "gpu-analysis",
   "language": "python",
   "name": "python3"
  },
  "language_info": {
   "codemirror_mode": {
    "name": "ipython",
    "version": 3
   },
   "file_extension": ".py",
   "mimetype": "text/x-python",
   "name": "python",
   "nbconvert_exporter": "python",
   "pygments_lexer": "ipython3",
   "version": "3.9.16"
  },
  "orig_nbformat": 4
 },
 "nbformat": 4,
 "nbformat_minor": 2
}
