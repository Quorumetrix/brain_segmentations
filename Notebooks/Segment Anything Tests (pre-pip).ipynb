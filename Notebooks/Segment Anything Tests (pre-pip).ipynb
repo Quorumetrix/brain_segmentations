{
 "cells": [
  {
   "cell_type": "code",
   "execution_count": null,
   "id": "12dbae68",
   "metadata": {},
   "outputs": [],
   "source": [
    "en the model can be used in just a few lines to get masks from a given prompt:"
   ]
  },
  {
   "cell_type": "code",
   "execution_count": null,
   "id": "191027ab",
   "metadata": {},
   "outputs": [],
   "source": [
    "from segment_anything import build_sam, SamPredictor \n",
    "predictor = SamPredictor(build_sam(checkpoint=\"</path/to/model.pth>\"))\n",
    "predictor.set_image(<your_image>)\n",
    "masks, _, _ = predictor.predict(<input_prompts>)"
   ]
  },
  {
   "cell_type": "code",
   "execution_count": null,
   "id": "06d126d3",
   "metadata": {},
   "outputs": [],
   "source": [
    "or generate masks for an entire image:"
   ]
  },
  {
   "cell_type": "code",
   "execution_count": null,
   "id": "7ad518ff",
   "metadata": {},
   "outputs": [],
   "source": [
    "from segment_anything import build_sam, SamAutomaticMaskGenerator\n",
    "mask_generator = SamAutomaticMaskGenerator(build_sam(checkpoint=\"</path/to/model.pth>\"))\n",
    "masks = mask_generator_generate(<your_image>)"
   ]
  }
 ],
 "metadata": {
  "kernelspec": {
   "display_name": "Python 3 (ipykernel)",
   "language": "python",
   "name": "python3"
  },
  "language_info": {
   "codemirror_mode": {
    "name": "ipython",
    "version": 3
   },
   "file_extension": ".py",
   "mimetype": "text/x-python",
   "name": "python",
   "nbconvert_exporter": "python",
   "pygments_lexer": "ipython3",
   "version": "3.9.16"
  }
 },
 "nbformat": 4,
 "nbformat_minor": 5
}
