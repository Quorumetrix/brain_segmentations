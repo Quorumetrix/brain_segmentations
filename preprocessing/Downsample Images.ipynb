{
 "cells": [
  {
   "attachments": {},
   "cell_type": "markdown",
   "metadata": {},
   "source": [
    "Now run the downsampling steps using the module. "
   ]
  },
  {
   "cell_type": "code",
   "execution_count": 1,
   "metadata": {},
   "outputs": [
    {
     "name": "stdout",
     "output_type": "stream",
     "text": [
      "experiment_folder defined in config. Be careful in the future! Iordanova_06082022_SOC-R9-F_NeuN-cFOS/\n",
      "Successfully import pyclesperanto, using GPU:  <NVIDIA GeForce GTX 1080 Ti on Platform: NVIDIA CUDA (1 refs)>\n",
      "DS_FACTOR:  16\n"
     ]
    }
   ],
   "source": [
    "import os\n",
    "import numpy as np\n",
    "import matplotlib.pyplot as plt\n",
    "import imageio\n",
    "\n",
    "from tqdm import tqdm\n",
    "\n",
    "from skimage import io, transform\n",
    "from skimage.util import img_as_float32\n",
    "\n",
    "# Module imports\n",
    "import sys\n",
    "sys.path.append('E://Documents/Professional/Jupyter notebooks/Projects/Iordonova_lab/')\n",
    "# sys.path.append('brain_segmentations')\n",
    "\n",
    "from brain_segmentations.config import *\n",
    "from brain_segmentations.preprocessing import *\n",
    "from brain_segmentations.preprocessing.preprocessing import *\n",
    "from brain_segmentations.preprocessing.file_io import *\n",
    "\n",
    "print('DS_FACTOR: ',DS_FACTOR)\n"
   ]
  },
  {
   "cell_type": "code",
   "execution_count": 5,
   "metadata": {},
   "outputs": [
    {
     "name": "stdout",
     "output_type": "stream",
     "text": [
      "Voxel dimensions to provide to brainreg (z,x,y):  [ 4.  28.8 28.8]\n"
     ]
    }
   ],
   "source": [
    "DS_FACTOR = 16\n",
    "VOXEL_DIMS = [1.8, 1.8, 4]\n",
    "\n",
    "x_scale, y_scale = DS_FACTOR, DS_FACTOR\n",
    "z_scale = 1\n",
    "\n",
    "fs_voxel_dims = np.asarray(VOXEL_DIMS) # um (x,y,z)\n",
    "# To avoid confusion, have separate variables for the voxel dimensions in the order z,x,y\n",
    "ds_voxel_dims_xyz = fs_voxel_dims * (x_scale, y_scale, z_scale) \n",
    "ds_voxel_dims_zxy = ds_voxel_dims_xyz[[2,0,1]] # z,x,y (as input for brainreg)\n",
    "print('Voxel dimensions to provide to brainreg (z,x,y): ',ds_voxel_dims_zxy)"
   ]
  },
  {
   "cell_type": "code",
   "execution_count": 2,
   "metadata": {},
   "outputs": [
    {
     "name": "stdout",
     "output_type": "stream",
     "text": [
      "Folder already exists: M://Brain_Registration/downsampled_16/neun/\n"
     ]
    }
   ],
   "source": [
    "file_list = os.listdir(ROOT+experiment_folder+neun_folder)\n",
    "\n",
    "# Output\n",
    "DS_OUTPUT = 'M://Brain_Registration/downsampled_'+ str(DS_FACTOR)\n",
    "neun_output = DS_OUTPUT + '/neun/'\n",
    "\n",
    "create_folder_if_not_exists(neun_output)  "
   ]
  },
  {
   "cell_type": "code",
   "execution_count": 6,
   "metadata": {},
   "outputs": [
    {
     "name": "stdout",
     "output_type": "stream",
     "text": [
      "Using pyclesperanto to downsample images.\n"
     ]
    },
    {
     "name": "stderr",
     "output_type": "stream",
     "text": [
      "100%|██████████| 2765/2765 [3:03:53<00:00,  3.99s/it]  \n"
     ]
    }
   ],
   "source": [
    "downsample_folder(file_list, neun_output)"
   ]
  },
  {
   "cell_type": "code",
   "execution_count": null,
   "metadata": {},
   "outputs": [],
   "source": []
  }
 ],
 "metadata": {
  "kernelspec": {
   "display_name": "brain_segmentations",
   "language": "python",
   "name": "python3"
  },
  "language_info": {
   "codemirror_mode": {
    "name": "ipython",
    "version": 3
   },
   "file_extension": ".py",
   "mimetype": "text/x-python",
   "name": "python",
   "nbconvert_exporter": "python",
   "pygments_lexer": "ipython3",
   "version": "3.9.16"
  },
  "orig_nbformat": 4
 },
 "nbformat": 4,
 "nbformat_minor": 2
}
