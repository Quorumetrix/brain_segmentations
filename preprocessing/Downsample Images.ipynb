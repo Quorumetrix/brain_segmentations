{
 "cells": [
  {
   "cell_type": "code",
   "execution_count": 1,
   "metadata": {},
   "outputs": [],
   "source": [
    "# Standard imports\n",
    "\n",
    "import os\n",
    "import numpy as np\n",
    "import imageio\n",
    "\n",
    "from skimage import io, transform\n",
    "from skimage.util import img_as_float32\n"
   ]
  },
  {
   "cell_type": "code",
   "execution_count": 5,
   "metadata": {},
   "outputs": [],
   "source": [
    "# Module imports\n",
    "import sys\n",
    "sys.path.append('E://Documents/Professional/Jupyter notebooks/Projects/Iordonova_lab/')\n",
    "# sys.path.append('brain_segmentations')\n",
    "\n",
    "from brain_segmentations.config import *\n",
    "from brain_segmentations.preprocessing import *"
   ]
  },
  {
   "attachments": {},
   "cell_type": "markdown",
   "metadata": {},
   "source": [
    "Select the folder"
   ]
  },
  {
   "cell_type": "code",
   "execution_count": 6,
   "metadata": {},
   "outputs": [
    {
     "name": "stdout",
     "output_type": "stream",
     "text": [
      "['341880_413020_002040.tif', '341880_413020_002080.tif', '341880_413020_002120.tif', '341880_413020_002160.tif', '341880_413020_002200.tif', '341880_413020_002240.tif', '341880_413020_002280.tif', '341880_413020_002320.tif', '341880_413020_002360.tif', '341880_413020_002400.tif', '341880_413020_002440.tif', '341880_413020_002480.tif', '341880_413020_002520.tif', '341880_413020_002560.tif', '341880_413020_002600.tif', '341880_413020_002640.tif', '341880_413020_002680.tif', '341880_413020_002720.tif', '341880_413020_002760.tif', '341880_413020_002800.tif', '341880_413020_002840.tif', '341880_413020_002880.tif', '341880_413020_002920.tif', '341880_413020_002960.tif', '341880_413020_003000.tif', '341880_413020_003040.tif', '341880_413020_003080.tif', '341880_413020_003120.tif', '341880_413020_003160.tif', '341880_413020_003200.tif', '341880_413020_003240.tif', '341880_413020_003280.tif', '341880_413020_003320.tif', '341880_413020_003360.tif', '341880_413020_003400.tif', '341880_413020_003440.tif', '341880_413020_003480.tif', '341880_413020_003520.tif', '341880_413020_003560.tif', '341880_413020_003600.tif', '341880_413020_003640.tif', '341880_413020_003680.tif', '341880_413020_003720.tif', '341880_413020_003760.tif', '341880_413020_003800.tif', '341880_413020_003840.tif', '341880_413020_003880.tif', '341880_413020_003920.tif', '341880_413020_003960.tif', '341880_413020_004000.tif', '341880_413020_004040.tif', '341880_413020_004080.tif', '341880_413020_004120.tif', '341880_413020_004160.tif', '341880_413020_004200.tif', '341880_413020_004240.tif', '341880_413020_004280.tif', '341880_413020_004320.tif', '341880_413020_004360.tif', '341880_413020_004400.tif', '341880_413020_004440.tif', '341880_413020_004480.tif', '341880_413020_004520.tif', '341880_413020_004560.tif', '341880_413020_004600.tif', '341880_413020_004640.tif', '341880_413020_004680.tif', '341880_413020_004720.tif', '341880_413020_004760.tif', '341880_413020_004800.tif', '341880_413020_004840.tif', '341880_413020_004880.tif', '341880_413020_004920.tif', '341880_413020_004960.tif', '341880_413020_005000.tif', '341880_413020_005040.tif', '341880_413020_005080.tif', '341880_413020_005120.tif', '341880_413020_005160.tif', '341880_413020_005200.tif', '341880_413020_005240.tif', '341880_413020_005280.tif', '341880_413020_005320.tif', '341880_413020_005360.tif', '341880_413020_005400.tif', '341880_413020_005440.tif', '341880_413020_005480.tif', '341880_413020_005520.tif', '341880_413020_005560.tif', '341880_413020_005600.tif', '341880_413020_005640.tif', '341880_413020_005680.tif', '341880_413020_005720.tif', '341880_413020_005760.tif', '341880_413020_005800.tif', '341880_413020_005840.tif', '341880_413020_005880.tif', '341880_413020_005920.tif', '341880_413020_005960.tif', '341880_413020_006000.tif', 'desktop.ini']\n"
     ]
    }
   ],
   "source": [
    "experiment_folder = 'Iordanova_Control-M-R8_NeuN-cFOS/'\n",
    "cFOS_folder = 'Iordanova_Control-M-R8_cFOS/'\n",
    "neun_folder = 'Iordanova_Control-M-R8_NeuN/'\n",
    "\n",
    "file_list = os.listdir(ROOT+experiment_folder+cFOS_folder)\n",
    "print(file_list)"
   ]
  },
  {
   "cell_type": "code",
   "execution_count": null,
   "metadata": {},
   "outputs": [],
   "source": []
  }
 ],
 "metadata": {
  "kernelspec": {
   "display_name": "brain_segmentations",
   "language": "python",
   "name": "python3"
  },
  "language_info": {
   "codemirror_mode": {
    "name": "ipython",
    "version": 3
   },
   "file_extension": ".py",
   "mimetype": "text/x-python",
   "name": "python",
   "nbconvert_exporter": "python",
   "pygments_lexer": "ipython3",
   "version": "3.9.16"
  },
  "orig_nbformat": 4
 },
 "nbformat": 4,
 "nbformat_minor": 2
}
